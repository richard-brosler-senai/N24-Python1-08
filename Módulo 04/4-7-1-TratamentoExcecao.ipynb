{
 "cells": [
  {
   "cell_type": "markdown",
   "metadata": {},
   "source": [
    "# Tratamento de exceção no Python"
   ]
  },
  {
   "cell_type": "code",
   "execution_count": 11,
   "metadata": {},
   "outputs": [
    {
     "name": "stdout",
     "output_type": "stream",
     "text": [
      "Digite somente número!\n",
      "ou Divisão por zero division by zero\n"
     ]
    }
   ],
   "source": [
    "try: # inicio um bloco de tratamento de erro\n",
    "    idade = int(input(\"Digite sua idade: \"))\n",
    "    conta = 1 / idade\n",
    "    print(conta)\n",
    "except (ValueError,ZeroDivisionError) as e:\n",
    "    print(\"Digite somente número!\")\n",
    "    print(\"ou Divisão por zero\",e)\n",
    "#except ZeroDivisionError:\n",
    "#    print(\"Divisão por zero\")\n",
    "except Exception as x: # Se ocorrer erro, virá para esse bloco\n",
    "    print(\"Ocorreu um erro:\",x)"
   ]
  },
  {
   "cell_type": "code",
   "execution_count": 14,
   "metadata": {},
   "outputs": [
    {
     "name": "stdout",
     "output_type": "stream",
     "text": [
      "1.0\n",
      "Sempre sou executado, independemente de erro!\n",
      "Fim\n"
     ]
    }
   ],
   "source": [
    "# Usando o try .. finally\n",
    "try: # inicio um bloco de tratamento de erro\n",
    "    idade = int(input(\"Digite sua idade: \"))\n",
    "    conta = 1 / idade\n",
    "    print(conta)\n",
    "except (ValueError,ZeroDivisionError) as e:\n",
    "    print(\"Digite somente número!\")\n",
    "    print(\"ou Divisão por zero\",e)\n",
    "#except ZeroDivisionError:\n",
    "#    print(\"Divisão por zero\")\n",
    "except Exception as x: # Se ocorrer erro, virá para esse bloco\n",
    "    print(\"Ocorreu um erro:\",x)\n",
    "finally:\n",
    "    print(\"Sempre sou executado, independemente de erro!\")\n",
    "print(\"Fim\")"
   ]
  }
 ],
 "metadata": {
  "kernelspec": {
   "display_name": "Python 3",
   "language": "python",
   "name": "python3"
  },
  "language_info": {
   "codemirror_mode": {
    "name": "ipython",
    "version": 3
   },
   "file_extension": ".py",
   "mimetype": "text/x-python",
   "name": "python",
   "nbconvert_exporter": "python",
   "pygments_lexer": "ipython3",
   "version": "3.12.6"
  }
 },
 "nbformat": 4,
 "nbformat_minor": 2
}
