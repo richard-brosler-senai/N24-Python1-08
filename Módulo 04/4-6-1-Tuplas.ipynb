{
 "cells": [
  {
   "cell_type": "markdown",
   "metadata": {},
   "source": [
    "# Tuplas\n",
    "Conjunto somente leitura.\n",
    "Semelhante a lista"
   ]
  },
  {
   "cell_type": "code",
   "execution_count": 3,
   "metadata": {},
   "outputs": [
    {
     "ename": "AttributeError",
     "evalue": "'tuple' object has no attribute 'append'",
     "output_type": "error",
     "traceback": [
      "\u001b[1;31m---------------------------------------------------------------------------\u001b[0m",
      "\u001b[1;31mAttributeError\u001b[0m                            Traceback (most recent call last)",
      "Cell \u001b[1;32mIn[3], line 7\u001b[0m\n\u001b[0;32m      3\u001b[0m tupla2 \u001b[38;5;241m=\u001b[39m \u001b[38;5;241m1\u001b[39m,\u001b[38;5;241m2\u001b[39m,\u001b[38;5;241m3\u001b[39m,\u001b[38;5;241m4\u001b[39m\n\u001b[0;32m      4\u001b[0m \u001b[38;5;66;03m# Tentando alterar uma tupla\u001b[39;00m\n\u001b[0;32m      5\u001b[0m \u001b[38;5;66;03m# tupla[1] = 5 # Isso dá erro\u001b[39;00m\n\u001b[0;32m      6\u001b[0m \u001b[38;5;66;03m# del tupla[1] # Isso dá erro\u001b[39;00m\n\u001b[1;32m----> 7\u001b[0m \u001b[43mtupla\u001b[49m\u001b[38;5;241;43m.\u001b[39;49m\u001b[43mappend\u001b[49m(\u001b[38;5;241m1\u001b[39m)\n",
      "\u001b[1;31mAttributeError\u001b[0m: 'tuple' object has no attribute 'append'"
     ]
    }
   ],
   "source": [
    "# Criando uma tupla\n",
    "tupla = (1,2,3,4)\n",
    "tupla2 = 1,2,3,4\n",
    "# Tentando alterar uma tupla\n",
    "tupla[1] = 5 # Isso dá erro\n",
    "del tupla[1] # Isso dá erro\n",
    "tupla.append(1) # Isso não funciona\n"
   ]
  },
  {
   "cell_type": "code",
   "execution_count": 5,
   "metadata": {},
   "outputs": [
    {
     "name": "stdout",
     "output_type": "stream",
     "text": [
      "(1, 2, 3, 4, 5, 6)\n"
     ]
    }
   ],
   "source": [
    "tupla = () # Tupla vazia\n",
    "tupla += (1,2,3)\n",
    "tupla += (4,5,6)\n",
    "print(tupla)"
   ]
  },
  {
   "cell_type": "code",
   "execution_count": 6,
   "metadata": {},
   "outputs": [
    {
     "name": "stdout",
     "output_type": "stream",
     "text": [
      "(1, 2, 1, 2)\n"
     ]
    }
   ],
   "source": [
    "tupla = (1,2)\n",
    "tupla *= 2 # tupla = tupla * 2\n",
    "print(tupla)"
   ]
  },
  {
   "cell_type": "code",
   "execution_count": 13,
   "metadata": {},
   "outputs": [
    {
     "name": "stdout",
     "output_type": "stream",
     "text": [
      "(1, 2.5, 'texto', True, [1, 2, 3], (8, 9, 10))\n",
      "[1, 2, 3]\n",
      "(8, 9, 10)\n",
      "<class 'tuple'>\n",
      "True\n",
      "True\n",
      "(1, 2.5, 'texto', True, [1, 2, 3, 5], (8, 9, 10))\n"
     ]
    }
   ],
   "source": [
    "tupla = (1,2.5,\"texto\",True,[1,2,3],(8,9,10))\n",
    "print(tupla)\n",
    "print(tupla[4]) # Retorna a lista da posição 4\n",
    "print(tupla[5]) # Retorna a tupla da posição 5\n",
    "print(type(tupla[5]))\n",
    "# testando se o item é uma tupla\n",
    "print(type(tupla[5]) is tuple) \n",
    "# testando se o item é uma lista\n",
    "print(type(tupla[4]) is list)\n",
    "my_list = tupla[4] \n",
    "my_list.append(5)\n",
    "print(tupla)"
   ]
  },
  {
   "cell_type": "code",
   "execution_count": 14,
   "metadata": {},
   "outputs": [
    {
     "name": "stdout",
     "output_type": "stream",
     "text": [
      "(2, 3, 4)\n"
     ]
    }
   ],
   "source": [
    "tupla = (1,2,3,4,5)\n",
    "print(tupla[1:-1])"
   ]
  }
 ],
 "metadata": {
  "kernelspec": {
   "display_name": "Python 3",
   "language": "python",
   "name": "python3"
  },
  "language_info": {
   "codemirror_mode": {
    "name": "ipython",
    "version": 3
   },
   "file_extension": ".py",
   "mimetype": "text/x-python",
   "name": "python",
   "nbconvert_exporter": "python",
   "pygments_lexer": "ipython3",
   "version": "3.12.6"
  }
 },
 "nbformat": 4,
 "nbformat_minor": 2
}
