{
 "cells": [
  {
   "cell_type": "markdown",
   "metadata": {},
   "source": [
    "# Dicionários"
   ]
  },
  {
   "cell_type": "code",
   "execution_count": 3,
   "metadata": {},
   "outputs": [
    {
     "name": "stdout",
     "output_type": "stream",
     "text": [
      "{'nome': 'Richard Brosler', 'idade': 47, 'salario': 5000.0, 'fumante': False, 'pais': ('Antonio', 'Catarina'), 'telefones': ['123456789', '9999999'], 'endereco': {'logradouro': 'rua das ruas', 'numero': 's/n', 'cidade': 'Bauru', 'uf': 'SP'}}\n"
     ]
    }
   ],
   "source": [
    "dicio = {}\n",
    "# Adicionando um valor e uma chave\n",
    "dicio['nome'] = 'Richard Brosler'\n",
    "dicio['idade'] = 47\n",
    "dicio['salario'] = 5000.00\n",
    "dicio['fumante'] = False\n",
    "dicio['pais'] = ('Antonio','Catarina')\n",
    "dicio['telefones'] = ['123456789','9999999']\n",
    "dicio['endereco'] = {\n",
    "  'logradouro': 'rua das ruas',\n",
    "  'numero': 's/n',\n",
    "  'cidade': 'Bauru',\n",
    "  'uf': 'SP'\n",
    "}\n",
    "print(dicio)"
   ]
  },
  {
   "cell_type": "code",
   "execution_count": 6,
   "metadata": {},
   "outputs": [
    {
     "name": "stdout",
     "output_type": "stream",
     "text": [
      "{'nome': 'Roberto', 'fone': '143345', 'cidade': 'Bauru'}\n",
      "{'fone': '56789', 'cidade': 'Bauru'}\n"
     ]
    }
   ],
   "source": [
    "dicio = {'nome': 'Roberto', 'fone': '143345' }\n",
    "dicio.update({'cidade': 'Bauru'}) #adiciona elementos\n",
    "print(dicio)\n",
    "del dicio['nome']\n",
    "dicio['fone'] = '56789'\n",
    "print(dicio)"
   ]
  },
  {
   "cell_type": "code",
   "execution_count": 7,
   "metadata": {},
   "outputs": [
    {
     "name": "stdout",
     "output_type": "stream",
     "text": [
      "{}\n"
     ]
    }
   ],
   "source": [
    "dicio = {'nome': 'Richard', 'fone':'1234'}\n",
    "dicio.clear() # limpa o dicionário\n",
    "print(dicio)"
   ]
  },
  {
   "cell_type": "code",
   "execution_count": 9,
   "metadata": {},
   "outputs": [
    {
     "name": "stdout",
     "output_type": "stream",
     "text": [
      "fone 1234\n",
      "{'nome': 'Richard'}\n"
     ]
    }
   ],
   "source": [
    "dicio = {'nome': 'Richard', 'fone':'1234'}\n",
    "chave, valor = dicio.popitem() \n",
    "print(chave, valor)\n",
    "print(dicio)"
   ]
  },
  {
   "cell_type": "code",
   "execution_count": 14,
   "metadata": {},
   "outputs": [
    {
     "name": "stdout",
     "output_type": "stream",
     "text": [
      "dict_keys(['nome', 'fone'])\n",
      "dict_values(['richard', '1234'])\n",
      "fone\n",
      "nome\n",
      "----------\n",
      "richard\n",
      "1234\n"
     ]
    }
   ],
   "source": [
    "dicio = {'nome': 'richard', 'fone': '1234'}\n",
    "print(dicio.keys())\n",
    "print(dicio.values())\n",
    "for chave in sorted(dicio.keys()):\n",
    "    print(chave)\n",
    "print('-' * 10)\n",
    "for valor in dicio.values():\n",
    "    print(valor)"
   ]
  },
  {
   "cell_type": "code",
   "execution_count": 2,
   "metadata": {},
   "outputs": [
    {
     "name": "stdout",
     "output_type": "stream",
     "text": [
      "('nome', 'richard')\n",
      "('fone', '1234')\n",
      "nome => richard\n",
      "fone => 1234\n"
     ]
    }
   ],
   "source": [
    "dicio = {'nome': 'richard', 'fone': '1234'}\n",
    "for item in dicio.items():\n",
    "    print(item)\n",
    "for chave, valor in dicio.items():\n",
    "    print(chave,'=>',valor)"
   ]
  },
  {
   "cell_type": "code",
   "execution_count": 4,
   "metadata": {},
   "outputs": [
    {
     "name": "stdout",
     "output_type": "stream",
     "text": [
      "(1,)\n"
     ]
    }
   ],
   "source": [
    "# Tupla vazia\n",
    "tupla_vazia = ()\n",
    "# tupla com 1 elemento\n",
    "tupla_1_elem = (1,)\n",
    "print(tupla_1_elem)"
   ]
  }
 ],
 "metadata": {
  "kernelspec": {
   "display_name": "Python 3",
   "language": "python",
   "name": "python3"
  },
  "language_info": {
   "codemirror_mode": {
    "name": "ipython",
    "version": 3
   },
   "file_extension": ".py",
   "mimetype": "text/x-python",
   "name": "python",
   "nbconvert_exporter": "python",
   "pygments_lexer": "ipython3",
   "version": "3.12.6"
  }
 },
 "nbformat": 4,
 "nbformat_minor": 2
}
