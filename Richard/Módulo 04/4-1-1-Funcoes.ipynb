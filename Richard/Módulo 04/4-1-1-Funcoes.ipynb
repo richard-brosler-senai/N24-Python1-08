{
 "cells": [
  {
   "cell_type": "markdown",
   "metadata": {},
   "source": [
    "# Funções"
   ]
  },
  {
   "cell_type": "code",
   "execution_count": 5,
   "metadata": {},
   "outputs": [
    {
     "name": "stdout",
     "output_type": "stream",
     "text": [
      "+----------------------------------------+\n",
      "|             Menu Principal             |\n",
      "+----------------------------------------+\n"
     ]
    }
   ],
   "source": [
    "### Definindo uma função\n",
    "def montar_tela():\n",
    "    titulo = 'Menu Principal'\n",
    "    # Ajuste no título\n",
    "    if len(titulo) % 2 == 1:\n",
    "        titulo += ' ' # coloco 1 espaço no fim\n",
    "    colunas = 42\n",
    "    espacos = (colunas - 2 - len(titulo)) // 2 * ' '\n",
    "    print('+' + '-' * (colunas-2) + '+')\n",
    "    print('|' + espacos + titulo + espacos + '|')\n",
    "    print('+' + '-' * (colunas-2) + '+')\n",
    "\n",
    "montar_tela()"
   ]
  }
 ],
 "metadata": {
  "kernelspec": {
   "display_name": "Python 3",
   "language": "python",
   "name": "python3"
  },
  "language_info": {
   "codemirror_mode": {
    "name": "ipython",
    "version": 3
   },
   "file_extension": ".py",
   "mimetype": "text/x-python",
   "name": "python",
   "nbconvert_exporter": "python",
   "pygments_lexer": "ipython3",
   "version": "3.12.6"
  }
 },
 "nbformat": 4,
 "nbformat_minor": 2
}
