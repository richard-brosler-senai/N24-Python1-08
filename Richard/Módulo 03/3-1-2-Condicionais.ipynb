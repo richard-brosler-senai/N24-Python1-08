{
 "cells": [
  {
   "cell_type": "markdown",
   "metadata": {},
   "source": [
    "# Condicionais\n",
    "### Comando if\n",
    "```\n",
    "if condicao_true:\n",
    "    comando_a_ser_executado1()\n",
    "    comando_a_ser_executado2()\n",
    "# Notem o deslocamento de código\n",
    "# Isso é importantíssimo\n",
    "```"
   ]
  },
  {
   "cell_type": "code",
   "execution_count": 3,
   "metadata": {},
   "outputs": [
    {
     "name": "stdout",
     "output_type": "stream",
     "text": [
      "Você pode dirigir.\n",
      "Desde que tenha carta!\n",
      "Fim do programa!\n"
     ]
    }
   ],
   "source": [
    "idade = int(input(\"Digite sua idade: \"))\n",
    "if idade >= 18:\n",
    "    print(\"Você pode dirigir.\")\n",
    "    print(\"Desde que tenha carta!\")\n",
    "\n",
    "print(\"Fim do programa!\")"
   ]
  },
  {
   "cell_type": "markdown",
   "metadata": {},
   "source": [
    "### Cláusula else do if\n",
    "O else é opcional"
   ]
  },
  {
   "cell_type": "code",
   "execution_count": 4,
   "metadata": {},
   "outputs": [
    {
     "name": "stdout",
     "output_type": "stream",
     "text": [
      "Você não pode dirigir.\n",
      "Aguarde mais um pouco!\n",
      "Fim do programa!\n"
     ]
    }
   ],
   "source": [
    "idade = int(input(\"Digite sua idade: \"))\n",
    "if idade >= 18:\n",
    "    print(\"Você pode dirigir.\")\n",
    "    print(\"Desde que tenha carta!\")\n",
    "else:\n",
    "    print(\"Você não pode dirigir.\")\n",
    "    print(\"Aguarde mais um pouco!\")\n",
    "\n",
    "print(\"Fim do programa!\")"
   ]
  },
  {
   "cell_type": "markdown",
   "metadata": {},
   "source": [
    "### if encadeado"
   ]
  },
  {
   "cell_type": "code",
   "execution_count": 6,
   "metadata": {},
   "outputs": [
    {
     "name": "stdout",
     "output_type": "stream",
     "text": [
      "Você pode dirigir.\n",
      "Desde que tenha carta!\n",
      "Fim do programa!\n"
     ]
    }
   ],
   "source": [
    "idade = int(input(\"Digite sua idade: \"))\n",
    "if idade >= 18:\n",
    "    print(\"Você pode dirigir.\")\n",
    "    print(\"Desde que tenha carta!\")\n",
    "    if idade>= 60:\n",
    "        print(\"Mas cuidado!\")\n",
    "        print(\"Faça exames regularmente!\")\n",
    "else:\n",
    "    print(\"Você não pode dirigir.\")\n",
    "    print(\"Aguarde mais um pouco!\")\n",
    "\n",
    "print(\"Fim do programa!\")"
   ]
  },
  {
   "cell_type": "markdown",
   "metadata": {},
   "source": [
    "### clausula elif\n",
    "Também opcional"
   ]
  },
  {
   "cell_type": "code",
   "execution_count": 7,
   "metadata": {},
   "outputs": [
    {
     "name": "stdout",
     "output_type": "stream",
     "text": [
      "Você está quase lá.\n",
      "Mais alguns anos, já pode tirar carta!\n",
      "Fim do programa!\n"
     ]
    }
   ],
   "source": [
    "idade = int(input(\"Digite sua idade: \"))\n",
    "if idade >= 18:\n",
    "    print(\"Você pode dirigir.\")\n",
    "    print(\"Desde que tenha carta!\")\n",
    "elif idade>= 14:\n",
    "    print(\"Você está quase lá.\")\n",
    "    print(\"Mais alguns anos, já pode tirar carta!\")\n",
    "else:\n",
    "    print(\"Você não pode dirigir.\")\n",
    "    print(\"Aguarde mais um pouco!\")\n",
    "\n",
    "print(\"Fim do programa!\")"
   ]
  },
  {
   "cell_type": "code",
   "execution_count": 8,
   "metadata": {},
   "outputs": [
    {
     "name": "stdout",
     "output_type": "stream",
     "text": [
      "Você é maior\n"
     ]
    }
   ],
   "source": [
    "idade = 18\n",
    "# Se tiver um comando só, pode ser na mesma linha\n",
    "if idade>=18: print(\"Você é maior\")\n",
    "else: print(\"Não é maior\")\n"
   ]
  },
  {
   "cell_type": "code",
   "execution_count": null,
   "metadata": {},
   "outputs": [],
   "source": [
    "idade = int(input(\"Digite sua idade: \")) # linha 1\n",
    "if idade>0:\n",
    "    nome = input(\"Digite seu nome: \")\n",
    "    # Suponto que tenhamos mais perguntas\n",
    "    # Volte para a linha 1"
   ]
  },
  {
   "cell_type": "code",
   "execution_count": null,
   "metadata": {},
   "outputs": [],
   "source": [
    "num1 = int(input(\"Digite um numero: \"))\n",
    "num2 = int(input(\"Digite outro numero: \"))\n",
    "num3 = int(input(\"Digite outro numero: \"))\n",
    "\n",
    "maior = num1\n",
    "if maior < num2: maior = num2\n",
    "if maior < num3: maior = num3\n",
    "print(\"O maior número é\", maior)\n",
    "maior = max(num1,num2,num3) # retorna o maior numero\n",
    "menor = min(num1,num2,num3) # retorna o menor numero"
   ]
  },
  {
   "cell_type": "code",
   "execution_count": 3,
   "metadata": {},
   "outputs": [
    {
     "name": "stdout",
     "output_type": "stream",
     "text": [
      "Ano Bissexto\n"
     ]
    }
   ],
   "source": [
    "# Laboratório 3-1-12\n",
    "\n",
    "# se o número do ano não é divisível por quatro, é um ano comum;\n",
    "# caso contrário, se o número do ano não for divisível por 100, \n",
    "#   será um ano bissexto;\n",
    "# caso contrário, se o número do ano não for divisível por 400, \n",
    "#   é um ano comum ;\n",
    "# caso contrário, é um ano bissexto .\n",
    "year = int(input(\"Digite um ano: \"))\n",
    "\n",
    "if year < 1582:\n",
    "  print(\"Não dentro do período do calendário gregoriano\")\n",
    "else:\n",
    "  # Escreve o bloco se-então aqui\n",
    "  if year % 4 != 0: \n",
    "    print(\"Ano Comum\")\n",
    "  elif year % 100 != 0: \n",
    "    print(\"Ano Bissexto\")\n",
    "  elif year % 400 != 0: \n",
    "    print(\"Ano Comum\")\n",
    "  else: \n",
    "    print(\"Ano Bissexto\")\n",
    " "
   ]
  },
  {
   "attachments": {
    "image.png": {
     "image/png": "[encoded data removed]"
    }
   },
   "cell_type": "markdown",
   "metadata": {},
   "source": [
    "#### Exercício\n",
    "Desenvolver um programa que solicite uma temperatura e \n",
    "mostre um menu de opções para converter:\n",
    "1. Celsius para Fahrenheit\n",
    "2. Celsius para Kelvin\n",
    "3. Fahrenheit para Celsius\n",
    "4. Fahrenheit para Kelvin\n",
    "5. Kelvin para Celsius\n",
    "6. Kelvin para Fahrenheit\n",
    "\n",
    "Razão de proporção das temperaturas:\n",
    "![image.png](attachment:image.png)"
   ]
  }
 ],
 "metadata": {
  "kernelspec": {
   "display_name": "Python 3",
   "language": "python",
   "name": "python3"
  },
  "language_info": {
   "codemirror_mode": {
    "name": "ipython",
    "version": 3
   },
   "file_extension": ".py",
   "mimetype": "text/x-python",
   "name": "python",
   "nbconvert_exporter": "python",
   "pygments_lexer": "ipython3",
   "version": "3.12.6"
  }
 },
 "nbformat": 4,
 "nbformat_minor": 2
}
