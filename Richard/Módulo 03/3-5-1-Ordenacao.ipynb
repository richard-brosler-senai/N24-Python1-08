{
 "cells": [
  {
   "cell_type": "markdown",
   "metadata": {},
   "source": [
    "# Ordenação em listas\n",
    "### Utilizando bubbleSort"
   ]
  },
  {
   "cell_type": "code",
   "execution_count": 8,
   "metadata": {},
   "outputs": [
    {
     "name": "stdout",
     "output_type": "stream",
     "text": [
      "[2, 4, 5, 6, 8, 10]\n"
     ]
    }
   ],
   "source": [
    "lista = [8,2,6,4,5,10]\n",
    "troca = True\n",
    "while troca:\n",
    "  troca = False\n",
    "  for i in range(len(lista)-1):\n",
    "      if lista[i] > lista[i+1]:\n",
    "          lista[i], lista[i+1] = lista[i+1],lista[i]\n",
    "          troca = True\n",
    "\n",
    "print(lista) "
   ]
  },
  {
   "cell_type": "code",
   "execution_count": 10,
   "metadata": {},
   "outputs": [
    {
     "name": "stdout",
     "output_type": "stream",
     "text": [
      "[2, 4, 5, 6, 8, 10]\n",
      "[10, 8, 6, 5, 4, 2]\n"
     ]
    }
   ],
   "source": [
    "lista = [8,2,6,4,5,10]\n",
    "lista.sort()\n",
    "print(lista)\n",
    "lista.reverse()\n",
    "print(lista)"
   ]
  }
 ],
 "metadata": {
  "kernelspec": {
   "display_name": "Python 3",
   "language": "python",
   "name": "python3"
  },
  "language_info": {
   "codemirror_mode": {
    "name": "ipython",
    "version": 3
   },
   "file_extension": ".py",
   "mimetype": "text/x-python",
   "name": "python",
   "nbconvert_exporter": "python",
   "pygments_lexer": "ipython3",
   "version": "3.12.6"
  }
 },
 "nbformat": 4,
 "nbformat_minor": 2
}
