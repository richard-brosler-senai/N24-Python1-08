{
 "cells": [
  {
   "cell_type": "markdown",
   "metadata": {},
   "source": [
    "# Operadores Lógicos\n",
    "### Operador and\n",
    "| a | b | operador and | resultado |\n",
    "| - | - |:------------:| --------- |\n",
    "| True | True | a and b | True |\n",
    "| True | False | a and b | False |\n",
    "| False | True | a and b | False |\n",
    "| False | False | a and b | False |"
   ]
  },
  {
   "cell_type": "code",
   "execution_count": 18,
   "metadata": {},
   "outputs": [
    {
     "name": "stdout",
     "output_type": "stream",
     "text": [
      "False\n",
      "True\n",
      "15\n",
      "Verdade\n"
     ]
    }
   ],
   "source": [
    "print(True and False)\n",
    "print(True and True)\n",
    "a = -1\n",
    "b = 15\n",
    "print(a and b)\n",
    "if a:\n",
    "  print(\"Verdade\")"
   ]
  },
  {
   "cell_type": "markdown",
   "metadata": {},
   "source": [
    "### operador lógico or\n",
    "| a | b | operador or | resultado |\n",
    "| - | - |:------------:| --------- |\n",
    "| True | True | a or b | True |\n",
    "| True | False | a or b | True |\n",
    "| False | True | a or b | True |\n",
    "| False | False | a or b | False |"
   ]
  },
  {
   "cell_type": "code",
   "execution_count": 19,
   "metadata": {},
   "outputs": [
    {
     "name": "stdout",
     "output_type": "stream",
     "text": [
      "True\n",
      "True\n",
      "22\n"
     ]
    }
   ],
   "source": [
    "print(True or False)\n",
    "print(True or True)\n",
    "a = 0\n",
    "b = 22\n",
    "print(a or b)"
   ]
  },
  {
   "cell_type": "markdown",
   "metadata": {},
   "source": [
    "### Operador not (unário)\n",
    "| a | not a | resultado |\n",
    "| - | ----- | --------- |\n",
    "| True | not a | False |\n",
    "| False | not a | True |"
   ]
  },
  {
   "cell_type": "code",
   "execution_count": 20,
   "metadata": {},
   "outputs": [
    {
     "name": "stdout",
     "output_type": "stream",
     "text": [
      "False\n",
      "True\n",
      "False\n"
     ]
    }
   ],
   "source": [
    "# Utilizando not\n",
    "print(not True)\n",
    "a = 1\n",
    "print(not not a)\n",
    "print(not a)"
   ]
  },
  {
   "cell_type": "markdown",
   "metadata": {},
   "source": [
    "### Operador bit a bit & (and)\n"
   ]
  },
  {
   "cell_type": "code",
   "execution_count": 23,
   "metadata": {},
   "outputs": [
    {
     "name": "stdout",
     "output_type": "stream",
     "text": [
      "1010\n",
      "0111\n",
      "2\n",
      "0010\n"
     ]
    }
   ],
   "source": [
    "a = 10\n",
    "b = 7\n",
    "c = a & b\n",
    "print(f\"{a:04b}\")\n",
    "print(f\"{b:04b}\")\n",
    "print(c)\n",
    "print(f\"{c:04b}\")"
   ]
  },
  {
   "cell_type": "code",
   "execution_count": 24,
   "metadata": {},
   "outputs": [
    {
     "name": "stdout",
     "output_type": "stream",
     "text": [
      "0101\n"
     ]
    }
   ],
   "source": [
    "a = 0b1111\n",
    "b = 0b0101\n",
    "c = a & b\n",
    "print(f\"{c:04b}\")"
   ]
  },
  {
   "cell_type": "code",
   "execution_count": 26,
   "metadata": {},
   "outputs": [
    {
     "name": "stdout",
     "output_type": "stream",
     "text": [
      "A segunda e quarta está livre\n"
     ]
    }
   ],
   "source": [
    "#     DSTQQSS\n",
    "a = 0b0111100\n",
    "b = 0b0101000\n",
    "if a & b == b:\n",
    "    print(\"A segunda e quarta está livre\")"
   ]
  },
  {
   "cell_type": "markdown",
   "metadata": {},
   "source": [
    "### Operador bit a bit | (or)"
   ]
  },
  {
   "cell_type": "code",
   "execution_count": 28,
   "metadata": {},
   "outputs": [
    {
     "name": "stdout",
     "output_type": "stream",
     "text": [
      "15\n",
      "1111\n"
     ]
    }
   ],
   "source": [
    "a = 10 # 1010\n",
    "b = 7  # 0111\n",
    "c = a | b\n",
    "print(c)\n",
    "print(f\"{c:04b}\")"
   ]
  },
  {
   "cell_type": "markdown",
   "metadata": {},
   "source": [
    "### Operador bit a bit ^ (xor - or exclusivo)"
   ]
  },
  {
   "cell_type": "code",
   "execution_count": 29,
   "metadata": {},
   "outputs": [
    {
     "name": "stdout",
     "output_type": "stream",
     "text": [
      "13\n",
      "1101\n"
     ]
    }
   ],
   "source": [
    "a = 10 # 1010\n",
    "b = 7  # 0111\n",
    "c = a ^ b\n",
    "print(c)\n",
    "print(f\"{c:04b}\")"
   ]
  },
  {
   "cell_type": "markdown",
   "metadata": {},
   "source": [
    "### operador bit a bit ~ (complemento)"
   ]
  },
  {
   "cell_type": "code",
   "execution_count": 30,
   "metadata": {},
   "outputs": [
    {
     "name": "stdout",
     "output_type": "stream",
     "text": [
      "-11\n",
      "-0001011\n"
     ]
    }
   ],
   "source": [
    "a = 10   # 1010\n",
    "print(~a)\n",
    "print(f\"{~a:08b}\")"
   ]
  },
  {
   "cell_type": "markdown",
   "metadata": {},
   "source": [
    "### deslocamento de bit à esquerda << "
   ]
  },
  {
   "cell_type": "code",
   "execution_count": 34,
   "metadata": {},
   "outputs": [
    {
     "name": "stdout",
     "output_type": "stream",
     "text": [
      "80\n",
      "01010000\n"
     ]
    }
   ],
   "source": [
    "a = 5 # 1010000\n",
    "b = a << 4\n",
    "print(b)\n",
    "print(f\"{b:08b}\")"
   ]
  },
  {
   "cell_type": "markdown",
   "metadata": {},
   "source": [
    "### deslocamento de bit à direita >>"
   ]
  },
  {
   "cell_type": "code",
   "execution_count": 35,
   "metadata": {},
   "outputs": [
    {
     "name": "stdout",
     "output_type": "stream",
     "text": [
      "1\n"
     ]
    }
   ],
   "source": [
    "a = 5 # 0101\n",
    "b = a >> 2\n",
    "print(b)"
   ]
  }
 ],
 "metadata": {
  "kernelspec": {
   "display_name": "Python 3",
   "language": "python",
   "name": "python3"
  },
  "language_info": {
   "codemirror_mode": {
    "name": "ipython",
    "version": 3
   },
   "file_extension": ".py",
   "mimetype": "text/x-python",
   "name": "python",
   "nbconvert_exporter": "python",
   "pygments_lexer": "ipython3",
   "version": "3.12.6"
  }
 },
 "nbformat": 4,
 "nbformat_minor": 2
}
