{
 "cells": [
  {
   "cell_type": "markdown",
   "metadata": {},
   "source": [
    "# Loops\n",
    "### laço while (enquanto)"
   ]
  },
  {
   "cell_type": "code",
   "execution_count": 2,
   "metadata": {},
   "outputs": [
    {
     "name": "stdout",
     "output_type": "stream",
     "text": [
      "Estou no laço infinito!!\n"
     ]
    }
   ],
   "source": [
    "while True:\n",
    "    print(\"Estou no laço infinito!!\")\n",
    "    break # força a quebra do ciclo"
   ]
  },
  {
   "cell_type": "code",
   "execution_count": 3,
   "metadata": {},
   "outputs": [
    {
     "name": "stdout",
     "output_type": "stream",
     "text": [
      "Maior numero foi 10\n"
     ]
    }
   ],
   "source": [
    "maior = -999_999_999_999\n",
    "numero = int(input(\"Digite um número (0-fim): \"))\n",
    "while numero!= 0:\n",
    "    if numero > maior:\n",
    "        maior = numero\n",
    "    numero = int(input(\"Digite um número (0-fim): \"))\n",
    "\n",
    "print(\"Maior numero foi\",maior)\n",
    "    "
   ]
  },
  {
   "cell_type": "code",
   "execution_count": 6,
   "metadata": {},
   "outputs": [
    {
     "name": "stdout",
     "output_type": "stream",
     "text": [
      "Senha inválida! Redigite! Restam 2 Tentativas\n",
      "Senha inválida! Redigite! Restam 1 Tentativas\n",
      "Senha inválida! Redigite! Restam 0 Tentativas\n",
      "Ixi, bloqueou sua senha! :-(\n"
     ]
    }
   ],
   "source": [
    "senha_correta = \"Master123\"\n",
    "tentativas = 0\n",
    "senha_dig = \"\"\n",
    "while senha_dig != senha_correta and tentativas < 3:\n",
    "    senha_dig = input(\"Digite a senha: \")\n",
    "    if senha_dig != senha_correta:\n",
    "        tentativas += 1 # tentativa = tentativa + 1\n",
    "        print(\"Senha inválida! Redigite! Restam\",\n",
    "              3-tentativas,\"Tentativas\")\n",
    "\n",
    "if tentativas == 3:\n",
    "    print(\"Ixi, bloqueou sua senha! :-(\")\n",
    "else:\n",
    "    print(\"Acesso permitido!\")"
   ]
  },
  {
   "cell_type": "code",
   "execution_count": 7,
   "metadata": {},
   "outputs": [
    {
     "name": "stdout",
     "output_type": "stream",
     "text": [
      "0\n",
      "1\n",
      "2\n",
      "3\n",
      "4\n",
      "Fim do programa\n"
     ]
    }
   ],
   "source": [
    "contador = 0\n",
    "while contador < 5:\n",
    "    print(contador)\n",
    "    contador += 1\n",
    "print(\"Fim do programa\")"
   ]
  },
  {
   "cell_type": "markdown",
   "metadata": {},
   "source": [
    "### loop for"
   ]
  },
  {
   "cell_type": "code",
   "execution_count": 8,
   "metadata": {},
   "outputs": [
    {
     "name": "stdout",
     "output_type": "stream",
     "text": [
      "0\n",
      "1\n",
      "2\n",
      "3\n",
      "4\n",
      "Fim do programa\n"
     ]
    }
   ],
   "source": [
    "for contador in range(5):\n",
    "    print(contador)\n",
    "print(\"Fim do programa\")"
   ]
  },
  {
   "cell_type": "code",
   "execution_count": 9,
   "metadata": {},
   "outputs": [
    {
     "name": "stdout",
     "output_type": "stream",
     "text": [
      "1\n",
      "2\n",
      "3\n",
      "4\n",
      "5\n",
      "fim do programa\n"
     ]
    }
   ],
   "source": [
    "# Range com inicio e fim\n",
    "for contador in range(1,6):\n",
    "    print(contador)\n",
    "print(\"fim do programa\")"
   ]
  },
  {
   "cell_type": "code",
   "execution_count": 10,
   "metadata": {},
   "outputs": [
    {
     "name": "stdout",
     "output_type": "stream",
     "text": [
      "1\n",
      "3\n",
      "5\n",
      "7\n",
      "9\n",
      "Fim do programa\n"
     ]
    }
   ],
   "source": [
    "# range com inicio, fim, passo\n",
    "for contador in range(1,11,2):\n",
    "    print(contador)\n",
    "print(\"Fim do programa\")"
   ]
  },
  {
   "cell_type": "code",
   "execution_count": 13,
   "metadata": {},
   "outputs": [
    {
     "name": "stdout",
     "output_type": "stream",
     "text": [
      "-3\n",
      "-4\n",
      "-5\n",
      "-6\n",
      "-7\n",
      "-8\n",
      "-9\n",
      "Fim do programa\n"
     ]
    }
   ],
   "source": [
    "for contador in range(-3,-10,-1):\n",
    "    print(contador)\n",
    "print(\"Fim do programa\")"
   ]
  },
  {
   "cell_type": "code",
   "execution_count": 14,
   "metadata": {},
   "outputs": [
    {
     "name": "stdout",
     "output_type": "stream",
     "text": [
      "a, b, r, a, c, a, d, a, b, r, a, \n",
      "Fim do programa\n"
     ]
    }
   ],
   "source": [
    "palavra = \"abracadabra\"\n",
    "for letra in palavra:\n",
    "    print(letra,end=\", \")\n",
    "print()\n",
    "print(\"Fim do programa\")"
   ]
  },
  {
   "cell_type": "code",
   "execution_count": 15,
   "metadata": {},
   "outputs": [
    {
     "name": "stdout",
     "output_type": "stream",
     "text": [
      "Nome2 é maior\n"
     ]
    }
   ],
   "source": [
    "nome1 = \"Richard\"\n",
    "nome2 = \"Richard \"\n",
    "if nome1 > nome2: print(\"Nome1 é maior\")\n",
    "else: print(\"Nome2 é maior\")"
   ]
  },
  {
   "cell_type": "code",
   "execution_count": 16,
   "metadata": {},
   "outputs": [
    {
     "name": "stdout",
     "output_type": "stream",
     "text": [
      "10\n",
      "9\n",
      "8\n",
      "7\n",
      "6\n",
      "5\n",
      "4\n",
      "3\n",
      "2\n"
     ]
    }
   ],
   "source": [
    "for contador in range(10,1,-1):\n",
    "    print(contador)"
   ]
  },
  {
   "cell_type": "markdown",
   "metadata": {},
   "source": [
    "### Instruções break e continue\n",
    "break -> causa uma saída do laço de repetição\n",
    "continue -> força ir ao início/teste do laço de repetição"
   ]
  },
  {
   "cell_type": "code",
   "execution_count": 1,
   "metadata": {},
   "outputs": [
    {
     "name": "stdout",
     "output_type": "stream",
     "text": [
      "0\n",
      "1\n",
      "2\n",
      "Fim do programa\n"
     ]
    }
   ],
   "source": [
    "# utilizando o break\n",
    "for i in range(5):\n",
    "    if i == 3:\n",
    "        break # força a saída do laço for\n",
    "    print(i)\n",
    "print(\"Fim do programa\")"
   ]
  },
  {
   "cell_type": "code",
   "execution_count": 2,
   "metadata": {},
   "outputs": [
    {
     "name": "stdout",
     "output_type": "stream",
     "text": [
      "0\n",
      "1\n",
      "2\n",
      "4\n",
      "Fim do programa\n"
     ]
    }
   ],
   "source": [
    "# utilizando o continue\n",
    "for i in range(5):\n",
    "    if i == 3:\n",
    "        continue\n",
    "    print(i)\n",
    "print(\"Fim do programa\")"
   ]
  },
  {
   "cell_type": "code",
   "execution_count": 4,
   "metadata": {},
   "outputs": [
    {
     "name": "stdout",
     "output_type": "stream",
     "text": [
      "Fim do programa. Idade digitada: 10\n"
     ]
    }
   ],
   "source": [
    "# utilizando break com while\n",
    "while True:\n",
    "    idade = int(input(\"Digite uma idade entre 1 e 100: \"))\n",
    "    if idade >= 1 and idade <= 100:\n",
    "        break\n",
    "    print(\"Idade inválida! Redigite\")\n",
    "print(\"Fim do programa. Idade digitada:\",idade)"
   ]
  },
  {
   "cell_type": "code",
   "execution_count": 8,
   "metadata": {},
   "outputs": [
    {
     "name": "stdout",
     "output_type": "stream",
     "text": [
      "Idade inválida! Redigite.\n",
      "Fim do programa. Idade digitada: 1\n"
     ]
    }
   ],
   "source": [
    "# utilizando continue com while\n",
    "while True:\n",
    "    idade = int(input(\"Digite uma idade entre 1 e 100: \"))\n",
    "    if idade < 1 or idade > 100:\n",
    "        print(\"Idade inválida! Redigite.\")\n",
    "        continue\n",
    "    break\n",
    "print(\"Fim do programa. Idade digitada:\", idade)"
   ]
  },
  {
   "cell_type": "markdown",
   "metadata": {},
   "source": [
    "### Ramo else nos laços de repetição"
   ]
  },
  {
   "cell_type": "code",
   "execution_count": 11,
   "metadata": {},
   "outputs": [
    {
     "name": "stdout",
     "output_type": "stream",
     "text": [
      "Else i 999\n",
      "Fim do programa\n"
     ]
    }
   ],
   "source": [
    "i = 999\n",
    "for i in range(6,5):\n",
    "    print(i)\n",
    "else: # sempre é executado no fim do ciclo, exceto break\n",
    "    print(\"Else i\",i)\n",
    "print(\"Fim do programa\")"
   ]
  },
  {
   "cell_type": "code",
   "execution_count": 12,
   "metadata": {},
   "outputs": [
    {
     "name": "stdout",
     "output_type": "stream",
     "text": [
      "0\n",
      "1\n",
      "2\n",
      "Fim do programa\n"
     ]
    }
   ],
   "source": [
    "# usando break\n",
    "for i in range(5):\n",
    "    if i == 3:\n",
    "        break\n",
    "    print(i)\n",
    "else: # sempre é executado no fim do ciclo, exceto break\n",
    "    print(\"Else i\",i)\n",
    "    # pode conter lista de comandos\n",
    "print(\"Fim do programa\")"
   ]
  },
  {
   "cell_type": "code",
   "execution_count": 26,
   "metadata": {},
   "outputs": [
    {
     "name": "stdout",
     "output_type": "stream",
     "text": [
      "A altura da pirâmide: 44\n"
     ]
    }
   ],
   "source": [
    "# Lab 3.2.14\n",
    "blocks = int(input(\"Insira o número de blocos:\"))  \n",
    " # Escreva seu código aqui.\n",
    "altura = 0\n",
    "total = 0\n",
    "# laço de repetição\n",
    "while total + altura + 1 <= blocks:\n",
    "    altura += 1\n",
    "    total += altura\n",
    "#\n",
    "print(\"A altura da pirâmide:\", altura)"
   ]
  }
 ],
 "metadata": {
  "kernelspec": {
   "display_name": "Python 3",
   "language": "python",
   "name": "python3"
  },
  "language_info": {
   "codemirror_mode": {
    "name": "ipython",
    "version": 3
   },
   "file_extension": ".py",
   "mimetype": "text/x-python",
   "name": "python",
   "nbconvert_exporter": "python",
   "pygments_lexer": "ipython3",
   "version": "3.12.6"
  }
 },
 "nbformat": 4,
 "nbformat_minor": 2
}
