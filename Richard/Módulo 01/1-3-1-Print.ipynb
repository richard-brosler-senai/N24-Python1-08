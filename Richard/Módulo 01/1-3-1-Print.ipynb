{
 "cells": [
  {
   "cell_type": "markdown",
   "metadata": {},
   "source": [
    "# Print\n",
    "Nesse tópico iremos falar sobre o print"
   ]
  },
  {
   "cell_type": "code",
   "execution_count": 5,
   "metadata": {},
   "outputs": [
    {
     "name": "stdout",
     "output_type": "stream",
     "text": [
      "Olá mundo!\n",
      "\n",
      "Tudo bem? Meu nome é Richard\n"
     ]
    }
   ],
   "source": [
    "print(\"Olá mundo!\")\n",
    "print()\n",
    "print(\"Tudo bem?\",\"Meu\",\"nome\",\"é\",\"Richard\")"
   ]
  },
  {
   "cell_type": "markdown",
   "metadata": {},
   "source": [
    "### Argumentos palavra chave"
   ]
  },
  {
   "cell_type": "code",
   "execution_count": 10,
   "metadata": {},
   "outputs": [
    {
     "name": "stdout",
     "output_type": "stream",
     "text": [
      "Bem;vindo;ao curso;de;python!\n"
     ]
    }
   ],
   "source": [
    "# Um exemplo de argumento de\n",
    "# palavra chave - sep\n",
    "print(\"Bem\",\"vindo\",\"ao curso\",\"de\",\n",
    "      \"python!\",sep=\";\")"
   ]
  },
  {
   "cell_type": "code",
   "execution_count": 12,
   "metadata": {},
   "outputs": [
    {
     "name": "stdout",
     "output_type": "stream",
     "text": [
      "Olá pessoal!***Bem vindos a aula.\n"
     ]
    }
   ],
   "source": [
    "# Mais um argumento de palavra chave\n",
    "# argumento - end\n",
    "print(\"Olá pessoal!\",end=\"***\")\n",
    "print(\"Bem vindos a aula.\")"
   ]
  },
  {
   "cell_type": "code",
   "execution_count": 13,
   "metadata": {},
   "outputs": [
    {
     "ename": "SyntaxError",
     "evalue": "positional argument follows keyword argument (1107386235.py, line 2)",
     "output_type": "error",
     "traceback": [
      "\u001b[1;36m  Cell \u001b[1;32mIn[13], line 2\u001b[1;36m\u001b[0m\n\u001b[1;33m    print(sep=\"-\",\"texto para mostra\")\u001b[0m\n\u001b[1;37m                                     ^\u001b[0m\n\u001b[1;31mSyntaxError\u001b[0m\u001b[1;31m:\u001b[0m positional argument follows keyword argument\n"
     ]
    }
   ],
   "source": [
    "# Nesse print teremos erros\n",
    "print(sep=\"-\",\"texto para mostra\")"
   ]
  },
  {
   "cell_type": "code",
   "execution_count": 14,
   "metadata": {},
   "outputs": [
    {
     "name": "stdout",
     "output_type": "stream",
     "text": [
      "teste-teste2;linha 2\n"
     ]
    }
   ],
   "source": [
    "print(\"teste\",\"teste2\",end=\";\",sep=\"-\")\n",
    "print(\"linha 2\")"
   ]
  },
  {
   "cell_type": "code",
   "execution_count": 15,
   "metadata": {},
   "outputs": [
    {
     "name": "stdout",
     "output_type": "stream",
     "text": [
      "uma queda d'agua\n",
      "fluia quando\n",
      "o pássaro caiu\n",
      "da árvore.\n"
     ]
    }
   ],
   "source": [
    "# Utilizando caracter escape \\\n",
    "print(\"uma queda d'agua\\nfluia quando\")\n",
    "print(\"o pássaro caiu\\nda árvore.\")"
   ]
  },
  {
   "cell_type": "code",
   "execution_count": 21,
   "metadata": {},
   "outputs": [
    {
     "name": "stdout",
     "output_type": "stream",
     "text": [
      "Arthur falou:\"Eu vou sair hoje\"\n",
      "acesse o diretório c:\\temp\n",
      "123456\t123456\t1234\t12\t1\n",
      "1\t12\t1234\t122345\t15657\n"
     ]
    }
   ],
   "source": [
    "print(\"Arthur falou:\\\"Eu vou sair hoje\\\"\")\n",
    "print(\"acesse o diretório c:\\\\temp\")\n",
    "print(\"123456\\t123456\\t1234\\t12\\t1\")\n",
    "print(\"1\\t12\\t1234\\t122345\\t15657\")"
   ]
  }
 ],
 "metadata": {
  "kernelspec": {
   "display_name": "Python 3",
   "language": "python",
   "name": "python3"
  },
  "language_info": {
   "codemirror_mode": {
    "name": "ipython",
    "version": 3
   },
   "file_extension": ".py",
   "mimetype": "text/x-python",
   "name": "python",
   "nbconvert_exporter": "python",
   "pygments_lexer": "ipython3",
   "version": "3.12.6"
  }
 },
 "nbformat": 4,
 "nbformat_minor": 2
}
