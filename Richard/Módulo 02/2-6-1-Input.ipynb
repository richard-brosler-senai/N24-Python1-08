{
 "cells": [
  {
   "cell_type": "markdown",
   "metadata": {},
   "source": [
    "# Input"
   ]
  },
  {
   "cell_type": "code",
   "execution_count": 8,
   "metadata": {},
   "outputs": [
    {
     "name": "stdout",
     "output_type": "stream",
     "text": [
      "Digite sua idade:\n"
     ]
    },
    {
     "ename": "ValueError",
     "evalue": "invalid literal for int() with base 10: ''",
     "output_type": "error",
     "traceback": [
      "\u001b[1;31m---------------------------------------------------------------------------\u001b[0m",
      "\u001b[1;31mValueError\u001b[0m                                Traceback (most recent call last)",
      "Cell \u001b[1;32mIn[8], line 2\u001b[0m\n\u001b[0;32m      1\u001b[0m \u001b[38;5;28mprint\u001b[39m(\u001b[38;5;124m\"\u001b[39m\u001b[38;5;124mDigite sua idade:\u001b[39m\u001b[38;5;124m\"\u001b[39m)\n\u001b[1;32m----> 2\u001b[0m idade \u001b[38;5;241m=\u001b[39m \u001b[38;5;28;43mint\u001b[39;49m\u001b[43m(\u001b[49m\u001b[38;5;28;43minput\u001b[39;49m\u001b[43m(\u001b[49m\u001b[43m)\u001b[49m\u001b[43m)\u001b[49m \u001b[38;5;66;03m# Convertendo para inteiro\u001b[39;00m\n\u001b[0;32m      3\u001b[0m \u001b[38;5;28mprint\u001b[39m(\u001b[38;5;124m\"\u001b[39m\u001b[38;5;124mSua idade é\u001b[39m\u001b[38;5;124m\"\u001b[39m,idade)\n\u001b[0;32m      4\u001b[0m \u001b[38;5;28mprint\u001b[39m(\u001b[38;5;124m\"\u001b[39m\u001b[38;5;124mVocê nasceu em\u001b[39m\u001b[38;5;124m\"\u001b[39m,\u001b[38;5;241m2024\u001b[39m\u001b[38;5;241m-\u001b[39midade)\n",
      "\u001b[1;31mValueError\u001b[0m: invalid literal for int() with base 10: ''"
     ]
    }
   ],
   "source": [
    "print(\"Digite sua idade:\")\n",
    "idade = int(input()) # Convertendo para inteiro\n",
    "print(\"Sua idade é\",idade)\n",
    "print(\"Você nasceu em\",2024-idade)"
   ]
  },
  {
   "cell_type": "code",
   "execution_count": 4,
   "metadata": {},
   "outputs": [
    {
     "name": "stdout",
     "output_type": "stream",
     "text": [
      "Sua idade é 47\n",
      "Você nasceu em 1977\n"
     ]
    }
   ],
   "source": [
    "idade = int(input(\"Digite sua idade: \"))\n",
    "print(\"Sua idade é\",idade)\n",
    "print(\"Você nasceu em\",2024-idade)"
   ]
  },
  {
   "cell_type": "code",
   "execution_count": 5,
   "metadata": {},
   "outputs": [
    {
     "name": "stdout",
     "output_type": "stream",
     "text": [
      "O valor invertido é 321\n"
     ]
    }
   ],
   "source": [
    "# Desenvolver um programa para \n",
    "# Solicitar um valor de até 3 dígitos\n",
    "# inteiros, e mostrar o valor invertido\n",
    "# você deve usar somente operadores\n",
    "# matemáticos para isso.\n",
    "# Dica: use divisão inteira e resto\n",
    "# exemplo: 123 => 321\n",
    "valor = int(input(\"Digite o valor a ser invertido: \"))\n",
    "cent = valor // 100\n",
    "deze = valor % 100 // 10\n",
    "unid = valor % 10\n",
    "vlr_inv = unid * 100 + deze * 10 + cent\n",
    "print(\"O valor invertido é\",vlr_inv)"
   ]
  },
  {
   "cell_type": "code",
   "execution_count": 7,
   "metadata": {},
   "outputs": [
    {
     "name": "stdout",
     "output_type": "stream",
     "text": [
      "abc abc \n"
     ]
    }
   ],
   "source": [
    "txt = input(\"Digite um texto: \")\n",
    "print((txt + ' ') * 2) # Replicando o texto"
   ]
  },
  {
   "attachments": {
    "image.png": {
     "image/png": "[encoded data removed]"
    }
   },
   "cell_type": "markdown",
   "metadata": {},
   "source": [
    "### Laboratório 2-6-10\n",
    "![image.png](attachment:image.png)"
   ]
  },
  {
   "cell_type": "code",
   "execution_count": 12,
   "metadata": {},
   "outputs": [
    {
     "name": "stdout",
     "output_type": "stream",
     "text": [
      "y = -0.19258202567760344\n"
     ]
    }
   ],
   "source": [
    "x = float(input(\"Digite o valor para x: \"))\n",
    "# Escreva seu código aqui.\n",
    "y = 1 / (x + 1 / (x + 1 / (x + 1 / x))) # Substitua o zero pela conta\n",
    "print(\"y =\", y)"
   ]
  },
  {
   "cell_type": "code",
   "execution_count": 16,
   "metadata": {},
   "outputs": [
    {
     "name": "stdout",
     "output_type": "stream",
     "text": [
      "49:0\n"
     ]
    }
   ],
   "source": [
    "# Lab 2-6-11\n",
    "hour = int(input(\"Hora de início (horas): \"))\n",
    "mins = int(input(\"Hora de início (minutos): \"))\n",
    "dura = int(input(\"Duração do evento (minutos): \"))\n",
    "\n",
    "# Escreva seu código aqui.\n",
    "tempo_total = hour * 60 + mins + dura\n",
    "hora_final = tempo_total // 60 % 24\n",
    "minu_final = tempo_total % 60\n",
    "print(hora_final, minu_final, sep=':')"
   ]
  },
  {
   "cell_type": "code",
   "execution_count": 20,
   "metadata": {},
   "outputs": [
    {
     "name": "stdout",
     "output_type": "stream",
     "text": [
      "<class 'int'>\n",
      "<class 'str'>\n",
      "<class 'float'>\n",
      "<class 'bool'>\n"
     ]
    }
   ],
   "source": [
    "valor = 1\n",
    "print(type(valor)) # retorna o tipo do dado da variável\n",
    "valor = \"teste\"\n",
    "print(type(valor)) # retorna o tipo do dado da variável\n",
    "valor = 1.0\n",
    "print(type(valor)) # retorna o tipo do dado da variável\n",
    "valor = True\n",
    "print(type(valor)) # retorna o tipo do dado da variável"
   ]
  }
 ],
 "metadata": {
  "kernelspec": {
   "display_name": "Python 3",
   "language": "python",
   "name": "python3"
  },
  "language_info": {
   "codemirror_mode": {
    "name": "ipython",
    "version": 3
   },
   "file_extension": ".py",
   "mimetype": "text/x-python",
   "name": "python",
   "nbconvert_exporter": "python",
   "pygments_lexer": "ipython3",
   "version": "3.12.6"
  }
 },
 "nbformat": 4,
 "nbformat_minor": 2
}
