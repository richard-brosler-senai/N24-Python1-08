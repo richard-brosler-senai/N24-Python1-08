{
 "cells": [
  {
   "cell_type": "markdown",
   "metadata": {},
   "source": [
    "# Variáveis\n",
    "Regras para criar uma variável\n",
    "- Nome sempre começar com letra ou _\n",
    "- Não pode conter no nome espaços ou caracter especial \n",
    "- Pode conter números desde que inicie com letra ou _\n",
    "- Não pode usar uma palavra reservada do python por exemplo [True,False,return]\n",
    "- As variáveis são case-sensitive (sensíveis ao caso (letras maiúsculas e minúsculas))"
   ]
  },
  {
   "cell_type": "code",
   "execution_count": 2,
   "metadata": {},
   "outputs": [
    {
     "name": "stdout",
     "output_type": "stream",
     "text": [
      "47\n",
      "texto\n",
      "teste\n"
     ]
    }
   ],
   "source": [
    "idade = 47 # válido\n",
    "print(idade)\n",
    "idade = \"texto\"\n",
    "print(idade)\n",
    "nome=\"teste\"\n",
    "print(nome)"
   ]
  },
  {
   "cell_type": "code",
   "execution_count": 5,
   "metadata": {},
   "outputs": [
    {
     "name": "stdout",
     "output_type": "stream",
     "text": [
      "Python versão 3.10.16\n"
     ]
    }
   ],
   "source": [
    "txt = '3.10.16'\n",
    "print(\"Python versão \" + txt)"
   ]
  },
  {
   "cell_type": "code",
   "execution_count": 6,
   "metadata": {},
   "outputs": [
    {
     "name": "stdout",
     "output_type": "stream",
     "text": [
      "1\n",
      "2\n"
     ]
    }
   ],
   "source": [
    "contador = 1\n",
    "print(contador)\n",
    "contador = contador + 1\n",
    "print(contador)"
   ]
  },
  {
   "cell_type": "code",
   "execution_count": 7,
   "metadata": {},
   "outputs": [
    {
     "name": "stdout",
     "output_type": "stream",
     "text": [
      "3, 5, 6\n",
      "Número total de maças: 14\n"
     ]
    }
   ],
   "source": [
    "# Laboratório 2.4.7\n",
    "john = 3\n",
    "mary = 5\n",
    "adam = 6\n",
    "print(john, mary, adam,sep=', ')\n",
    "total_apples = john + mary + adam\n",
    "print('Número total de maças:',total_apples)"
   ]
  },
  {
   "cell_type": "markdown",
   "metadata": {},
   "source": [
    "### Operadores de atalho\n",
    "```python\n",
    "# variavel = variavel op (valor)\n",
    "# variavel op= (valor)\n",
    "# onde op pode ser +, -, *, **, /, //, %\n",
    "variavel = 1\n",
    "variavel += 2 # variavel = variavel + 2\n",
    "```"
   ]
  },
  {
   "cell_type": "code",
   "execution_count": 10,
   "metadata": {},
   "outputs": [
    {
     "name": "stdout",
     "output_type": "stream",
     "text": [
      "50\n",
      "53\n",
      "80\n"
     ]
    }
   ],
   "source": [
    "vari = 10\n",
    "vari *= 5\n",
    "print(vari)\n",
    "# cuidado com o operador de atalho\n",
    "vari = 10\n",
    "vari = vari * 5 + 3\n",
    "print(vari)\n",
    "vari = 10\n",
    "vari *= 5 + 3\n",
    "print(vari)"
   ]
  },
  {
   "cell_type": "code",
   "execution_count": 13,
   "metadata": {},
   "outputs": [
    {
     "name": "stdout",
     "output_type": "stream",
     "text": [
      "y = -9.0\n"
     ]
    }
   ],
   "source": [
    "# Lab 2-4-10\n",
    "x = -1 # Codifique seus dados de teste aqui.\n",
    "x = float(x)\n",
    "# Escreva seu código aqui.\n",
    "y = 3 * x ** 3 - 2 * x ** 2 + 3 * x - 1\n",
    "print(\"y =\", y)"
   ]
  }
 ],
 "metadata": {
  "kernelspec": {
   "display_name": "Python 3",
   "language": "python",
   "name": "python3"
  },
  "language_info": {
   "codemirror_mode": {
    "name": "ipython",
    "version": 3
   },
   "file_extension": ".py",
   "mimetype": "text/x-python",
   "name": "python",
   "nbconvert_exporter": "python",
   "pygments_lexer": "ipython3",
   "version": "3.12.6"
  }
 },
 "nbformat": 4,
 "nbformat_minor": 2
}
