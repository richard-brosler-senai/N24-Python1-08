{
 "cells": [
  {
   "cell_type": "markdown",
   "metadata": {},
   "source": [
    "# Literais\n",
    "### Numéricos inteiros"
   ]
  },
  {
   "cell_type": "code",
   "execution_count": 1,
   "metadata": {},
   "outputs": [
    {
     "name": "stdout",
     "output_type": "stream",
     "text": [
      "1234\n"
     ]
    },
    {
     "ename": "NameError",
     "evalue": "name 'idade' is not defined",
     "output_type": "error",
     "traceback": [
      "\u001b[1;31m---------------------------------------------------------------------------\u001b[0m",
      "\u001b[1;31mNameError\u001b[0m                                 Traceback (most recent call last)",
      "Cell \u001b[1;32mIn[1], line 2\u001b[0m\n\u001b[0;32m      1\u001b[0m \u001b[38;5;28mprint\u001b[39m(\u001b[38;5;241m1234\u001b[39m) \u001b[38;5;66;03m# Literal 1234\u001b[39;00m\n\u001b[1;32m----> 2\u001b[0m \u001b[38;5;28mprint\u001b[39m(\u001b[43midade\u001b[49m) \u001b[38;5;66;03m# Não vai entender com texto\u001b[39;00m\n",
      "\u001b[1;31mNameError\u001b[0m: name 'idade' is not defined"
     ]
    }
   ],
   "source": [
    "print(1234) # Literal 1234\n",
    "print(idade) # Não vai entender com texto"
   ]
  },
  {
   "cell_type": "markdown",
   "metadata": {},
   "source": [
    "### Inteiros na base 2 (binários)\n",
    "ele é representado por 0b"
   ]
  },
  {
   "cell_type": "code",
   "execution_count": 2,
   "metadata": {},
   "outputs": [
    {
     "name": "stdout",
     "output_type": "stream",
     "text": [
      "11\n"
     ]
    }
   ],
   "source": [
    "print(0b1011)"
   ]
  },
  {
   "cell_type": "markdown",
   "metadata": {},
   "source": [
    "### Inteiros na base 8 (octal)\n",
    "Ele é representado por 0o"
   ]
  },
  {
   "cell_type": "code",
   "execution_count": 3,
   "metadata": {},
   "outputs": [
    {
     "name": "stdout",
     "output_type": "stream",
     "text": [
      "83\n"
     ]
    }
   ],
   "source": [
    "print(0o123)"
   ]
  },
  {
   "cell_type": "markdown",
   "metadata": {},
   "source": [
    "### Inteiros na base 16 (hexadecimal)\n",
    "Ele é representado por 0x"
   ]
  },
  {
   "cell_type": "code",
   "execution_count": 4,
   "metadata": {},
   "outputs": [
    {
     "name": "stdout",
     "output_type": "stream",
     "text": [
      "255\n"
     ]
    }
   ],
   "source": [
    "print(0xFF) # 0-9 A-F"
   ]
  },
  {
   "cell_type": "code",
   "execution_count": 5,
   "metadata": {},
   "outputs": [
    {
     "ename": "SyntaxError",
     "evalue": "leading zeros in decimal integer literals are not permitted; use an 0o prefix for octal integers (1382015422.py, line 1)",
     "output_type": "error",
     "traceback": [
      "\u001b[1;36m  Cell \u001b[1;32mIn[5], line 1\u001b[1;36m\u001b[0m\n\u001b[1;33m    print(0015) # isso dá erro no literal inteiro\u001b[0m\n\u001b[1;37m          ^\u001b[0m\n\u001b[1;31mSyntaxError\u001b[0m\u001b[1;31m:\u001b[0m leading zeros in decimal integer literals are not permitted; use an 0o prefix for octal integers\n"
     ]
    }
   ],
   "source": [
    "\n",
    "print(0015) # isso dá erro no literal inteiro"
   ]
  },
  {
   "cell_type": "code",
   "execution_count": 6,
   "metadata": {},
   "outputs": [
    {
     "name": "stdout",
     "output_type": "stream",
     "text": [
      "9999999999999\n"
     ]
    }
   ],
   "source": [
    "# A partir de python 3.6\n",
    "print(9_999_999_999_999)"
   ]
  },
  {
   "cell_type": "markdown",
   "metadata": {},
   "source": [
    "### Valores Flutuantes - Float\n",
    "Valores com casa decimal"
   ]
  },
  {
   "cell_type": "code",
   "execution_count": 9,
   "metadata": {},
   "outputs": [
    {
     "name": "stdout",
     "output_type": "stream",
     "text": [
      "1.5\n",
      "4.0\n",
      "-5.0\n",
      "3e-08\n"
     ]
    }
   ],
   "source": [
    "print(1.5)\n",
    "print(4.)\n",
    "print(-5.0)\n",
    "print(3E-8)"
   ]
  },
  {
   "cell_type": "markdown",
   "metadata": {},
   "source": [
    "### Strings ou cadeia de caracteres"
   ]
  },
  {
   "cell_type": "code",
   "execution_count": 12,
   "metadata": {},
   "outputs": [
    {
     "name": "stdout",
     "output_type": "stream",
     "text": [
      "Texto\n",
      "Teste\n",
      "lorem ipsum\n",
      "lorem ipsum\n",
      "lorem ipsum\n",
      "\n"
     ]
    }
   ],
   "source": [
    "print(\"Texto\")\n",
    "print('Teste')\n",
    "print(\"\"\"lorem ipsum\n",
    "lorem ipsum\n",
    "lorem ipsum\n",
    "\"\"\")"
   ]
  },
  {
   "cell_type": "markdown",
   "metadata": {},
   "source": [
    "### Valores booleanos (George Boole)\n",
    "True ou False"
   ]
  },
  {
   "cell_type": "code",
   "execution_count": 13,
   "metadata": {},
   "outputs": [
    {
     "name": "stdout",
     "output_type": "stream",
     "text": [
      "True\n",
      "False\n"
     ]
    }
   ],
   "source": [
    "print(True > False)\n",
    "print(True < False)"
   ]
  },
  {
   "cell_type": "code",
   "execution_count": 16,
   "metadata": {},
   "outputs": [
    {
     "name": "stdout",
     "output_type": "stream",
     "text": [
      "\"Eu sou\"\n",
      "\"\"aprendizado\"\"\n",
      "\"\"\"Python\"\"\"\n"
     ]
    }
   ],
   "source": [
    "# Laboratório 2-2-6\n",
    "print('\"Eu sou\"\\n\"\"aprendizado\"\"\\n\"\"\"Python\"\"\"')\n",
    "print('\"Eu sou\"','\"\"aprendizado\"\"','\"\"\"Python\"\"\"',sep='\\n')\n",
    "print(\"\\\"Eu sou\\\"\\n\\\"\\\"aprendizado\\\"\\\"\\n\\\"\\\"\\\"Python\\\"\\\"\\\"\")"
   ]
  }
 ],
 "metadata": {
  "kernelspec": {
   "display_name": "Python 3",
   "language": "python",
   "name": "python3"
  },
  "language_info": {
   "codemirror_mode": {
    "name": "ipython",
    "version": 3
   },
   "file_extension": ".py",
   "mimetype": "text/x-python",
   "name": "python",
   "nbconvert_exporter": "python",
   "pygments_lexer": "ipython3",
   "version": "3.12.6"
  }
 },
 "nbformat": 4,
 "nbformat_minor": 2
}
